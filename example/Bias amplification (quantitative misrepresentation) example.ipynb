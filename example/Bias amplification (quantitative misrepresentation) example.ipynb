{
 "cells": [
  {
   "cell_type": "markdown",
   "id": "f33222e0",
   "metadata": {},
   "source": [
    "# Bias Amplification by Quantitative Misrepresentation\n",
    "\n",
    "This notebook guides you through the process of bias amplification by quantitative misrepresentation. This demonstration uses cheset X-ray images from the Medical Imaging & Data Resource Center (MIDRC) Open-A1 data set as the example, and provides you with the instruction on how to train and deploy the model, as well as visualize the amplified bias.\n",
    "Quantitative misrepresentation (i.e., data set skew) is systematically applied to the training set to simulate different levels of selection bias. Specifically, the data used during development are selected such that the disease prevalence varies between patient subgroups. The degree to which bias is promoted can be controlled by changing the degree to which the prevalence varies between subgroups.\n",
    "\n",
    "## Sections\n",
    "\n",
    "- [1. Data Download and Conversion](#data_download)\\\n",
    "Download required data set from MIDRC and convert *dicom* to *.png* files.\n",
    "- [2. Data Partition](#data_partition)\\\n",
    "Partition data into training, validation and test sets.\n",
    "- [3. Data preprocessing](#data_preprocessing)\\\n",
    "Preprocess training and validation data sets with levels of disease prevalence in different subgroups.\n",
    "- [4. Model Training](#model_training)\\\n",
    "Train bias amplification models.\n",
    "- [5. Model Inference](#model_inference)\\\n",
    "Deploy models on the independent test set.\n",
    "- [6. Bias Visualization](#bias_visualization)\\\n",
    "Calculate measurements and visualize model bias."
   ]
  },
  {
   "cell_type": "markdown",
   "id": "13a57817",
   "metadata": {},
   "source": [
    "<a id='data_download'></a>\n",
    "## 1. Data Download and Conversion\n",
    "\n",
    "(**Please skip this step if you have already done**)The example uses MIDRC Open-A1 chest X-ray dataset ([MIDRC official website](https://data.midrc.org/)), which can be accessed and downloaded by following the instruction ([link for download instruction](https://data.midrc.org/dashboard/Public/documentation/Gen3_MIDRC_GetStarted.pdf)). Several *.tsv* files that include study case, patient demography and image information can also be downloaded from the website (for your convenience, we have already included them in this repository). After data is successfully downloaded, the script below will generate *.json* data summary file, and convert *dicom* files to *.png* files.\n",
    "**Warning: This section may take several hours to finish.**"
   ]
  },
  {
   "cell_type": "code",
   "execution_count": null,
   "id": "40f5a7ee",
   "metadata": {},
   "outputs": [
    {
     "name": "stdout",
     "output_type": "stream",
     "text": [
      "\n",
      "Start image conversion to jpeg\n",
      "input: 20221010_summary_table__open_A1.json\n",
      "\n",
      "found 89502 image files\n",
      "converting all images\n"
     ]
    },
    {
     "name": "stderr",
     "output_type": "stream",
     "text": [
      " 80%|████████████████████████████████████████████████████████████████████████████████████████████████████████████████████████████████▋                                | 71541/89502 [01:19<00:16, 1075.25it/s]"
     ]
    }
   ],
   "source": [
    "# convert dicom to png file\n",
    "png_save_dir = \"/gpfs_projects/yuhang.zhang/OUT/2022_CXR/open_a1_jpeg\" # directory to save png files\n",
    "%run ../src/utils/data_conversion.py \\\n",
    "    --save_dir \"{png_save_dir}\" \\\n",
    "    --input_file \"20221010_summary_table__open_A1.json\""
   ]
  },
  {
   "cell_type": "markdown",
   "id": "2e802fe6",
   "metadata": {},
   "source": [
    "<a id='data_partition'></a>\n",
    "## 2. Data Partition\n",
    "\n",
    "After data are converted to *.png* files, they needed to be properly partitioned into training, validation and testing sets. In this experiment, all the data sets are equally stratified by patient sex (male and female), race (white and black) and COVID status (positive and negative). For each patient, only 1 image is selected. To accelerate the whole experiment process, only 50% of the entire Open-A1 dataset is used. "
   ]
  },
  {
   "cell_type": "code",
   "execution_count": null,
   "id": "0c1d78c6",
   "metadata": {},
   "outputs": [],
   "source": [
    "# data partition\n",
    "save_dir = \"/gpfs_projects/yuhang.zhang/OUT/2022_CXR/juypter_direct_test\" # directory to save partition folder\n",
    "%run ../src/utils/data_partitions.py \\\n",
    "    --input_list \"20221010_summary_table__open_A1.json\" \\\n",
    "    --conversion_file \"/gpfs_projects/yuhang.zhang/OUT/2022_CXR/open_a1_jpeg/conversion_table.json\" \\\n",
    "    --test_size 0.3 \\\n",
    "    --validation_size 0.2 \\\n",
    "    --save_dir \"{save_dir}\" \\\n",
    "    --max_img_per_patient 1 \\\n",
    "    --tasks 'M' 'F' 'White' 'Black' 'Yes' 'No' \\\n",
    "    --patient_img_selection_mode \"random\" \\\n",
    "    --random_seed 2 \\\n",
    "    --subsample_rate 0.5"
   ]
  },
  {
   "cell_type": "markdown",
   "id": "57825f83",
   "metadata": {},
   "source": [
    "<a id='data_preprocessing'></a>\n",
    "## 3. Data Preprocessing\n",
    "\n",
    "To amplify the model bias by quantitative misrepresentation, the first step is to vary the disease prevalence within each subgroup in the **training set** while maintaining constant overall disease prevalence and subgroup distribution. \n",
    "This demonstration takes patient sex subgroup (male and female) as an example. You can run the following code to sample the disease prevalence to 0%, 25%, 50%, 75% and 100% in \"F\" (memale) subgroup, while the disease prevalence in \"M\" (male) will be 100%, 75%, 50%, 25% and 0% repectively. Noted that training set with 50% diease prevalence in each subgroup serves as the baseline.\n",
    "The code will save resulted training set *.csv* files and renamed with subgroup disease prevalence (e.g., training set with 25% disease prevalence in female subgroup will be saved as *25FP_train.csv*)."
   ]
  },
  {
   "cell_type": "code",
   "execution_count": null,
   "id": "63e53231",
   "metadata": {},
   "outputs": [],
   "source": [
    "# manipulate subgroup disease prevalence in training/validation set\n",
    "main_dir = \"/gpfs_projects/yuhang.zhang/OUT/2022_CXR/test/RAND_0\" # main experiment directory\n",
    "%run ../src/utils/quantitative_misrepresentation_data_process.py \\\n",
    "    --input_file \"train.csv\" \\\n",
    "    --prevalences 0 0.25 0.5 0.75 1 \\\n",
    "    --test_subgroup \"F\" \\\n",
    "    --in_dir \"{main_dir}\" \\\n",
    "    --save_dir \"{main_dir}\"\n",
    "%run ../src/utils/quantitative_misrepresentation_data_process.py \\\n",
    "    --input_file \"validation.csv\" \\\n",
    "    --prevalences 0 0.25 0.5 0.75 1 \\\n",
    "    --test_subgroup \"F\" \\\n",
    "    --in_dir \"{main_dir}\" \\\n",
    "    --save_dir \"{main_dir}\""
   ]
  },
  {
   "cell_type": "markdown",
   "id": "33e03fb2",
   "metadata": {},
   "source": [
    "<a id='model_training'></a>\n",
    "## 4. Model Training\n",
    "\n",
    "After data preprocessing is done, you can run the following cell to train models with these different training sets. In this demonstration we uses *ResNet-18* as the example network architecture, and pre-trained weights trained from a contrastive\n",
    "self-supervised learning (CSL) approach and data from the CheXpert data. This weight file can be found under *example/* directory."
   ]
  },
  {
   "cell_type": "code",
   "execution_count": null,
   "id": "04af6d98",
   "metadata": {},
   "outputs": [],
   "source": [
    "# model training\n",
    "exp_list = [\"0FP\", \"25FP\", \"50FP\", \"75FP\", \"100FP\"]\n",
    "for exp in exp_list:\n",
    "    %run ../src/utils/model_train.py -i \"{main_dir}/{exp}_train.csv\" \\\n",
    "                                     -v \"{main_dir}/validation.csv\" \\\n",
    "                                     -o \"{main_dir}/{exp}\" \\\n",
    "                                     -l \"{main_dir}/{exp}/run_log.log\" \\\n",
    "                                     -c \"checkpoint_csl.pth.tar\" \\\n",
    "                                     -p \"adam\" \\\n",
    "                                     -g 0 \\\n",
    "                                     --pretrained_weights True"
   ]
  },
  {
   "cell_type": "markdown",
   "id": "a2e7b65c",
   "metadata": {},
   "source": [
    "<a id='model_inference'></a>\n",
    "## 5. Model Inference\n",
    "\n",
    "After model training is done, you can deploy the models on the independent testing set by running the following cell. The inference code will save prediction scores as *results__.tsv* files under the same directory."
   ]
  },
  {
   "cell_type": "code",
   "execution_count": null,
   "id": "5c86c8c2",
   "metadata": {},
   "outputs": [],
   "source": [
    "# model inference\n",
    "for exp in exp_list:\n",
    "    %run ../src/utils/model_inference.py \\\n",
    "        -i \"{main_dir}/independent_test.csv\" \\\n",
    "        -w \"{main_dir}/{exp}/pytorch_last_epoch_model.onnx\" \\\n",
    "        -g 0 \\\n",
    "        -l \"{main_dir}/{exp}/inference_log.log\""
   ]
  },
  {
   "cell_type": "markdown",
   "id": "c0b5d190",
   "metadata": {},
   "source": [
    "<a id='bias_visualization'></a>\n",
    "## 6. Bias Visualization\n",
    "\n",
    "After inference, you can analyze the model bias by running the following code. The analysis code here will calculate the subgroup **predicted prevalence** and **AUROC** , and plot these measurements with respect to training disease prevalence differences between two subgroups."
   ]
  },
  {
   "cell_type": "code",
   "execution_count": null,
   "id": "e3ffbe48",
   "metadata": {
    "scrolled": true
   },
   "outputs": [],
   "source": [
    "# metric calculation\n",
    "%run ../src/utils/bias_analysis.py \\  \n",
    "    -d \"{main_dir}\" \\\n",
    "    -e \"0FP\" \"25FP\" \"50FP\" \"75FP\" \"100FP\" \\\n",
    "    -a \"quantitative misrepresentation\" \\\n",
    "    -r \"results__.tsv\" \\\n",
    "    -i \"{main_dir}/independent_test.csv\" \\\n",
    "    -s \"sex\" "
   ]
  }
 ],
 "metadata": {
  "kernelspec": {
   "display_name": "Python 3 (ipykernel)",
   "language": "python",
   "name": "python3"
  },
  "language_info": {
   "codemirror_mode": {
    "name": "ipython",
    "version": 3
   },
   "file_extension": ".py",
   "mimetype": "text/x-python",
   "name": "python",
   "nbconvert_exporter": "python",
   "pygments_lexer": "ipython3",
   "version": "3.9.12"
  }
 },
 "nbformat": 4,
 "nbformat_minor": 5
}
