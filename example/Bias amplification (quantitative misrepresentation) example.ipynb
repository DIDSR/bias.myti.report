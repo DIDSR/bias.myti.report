{
 "cells": [
  {
   "cell_type": "markdown",
   "id": "f33222e0",
   "metadata": {},
   "source": [
    "# Bias Amplification by Quantitative Misrepresentation\n",
    "\n",
    "This notebook guides you through the process of bias amplification by quantitative misrepresentation. This demonstration uses chest X-ray images from the Medical Imaging & Data Resource Center (MIDRC) Open-A1 data set as the example, and provides you with the instruction on how to train and deploy the model, as well as visualize the amplified bias.\n",
    "Quantitative misrepresentation (i.e., data set skew) is systematically applied to the training set to simulate different levels of selection bias. Specifically, the data used during development are selected such that the disease prevalence varies between patient subgroups. The degree to which bias is promoted can be controlled by changing the degree to which the prevalence varies between subgroups.\n",
    "\n",
    "***Note: before you can run either of the example notebooks, you must download and preprocess the data.*** The example uses MIDRC Open-A1 chest X-ray dataset ([MIDRC official website](https://data.midrc.org/)), which can be accessed and downloaded by following the instruction ([link for download instruction](https://data.midrc.org/dashboard/Public/documentation/Gen3_MIDRC_GetStarted.pdf)). The data preprocessing can be completed using the provided [```data_preprocessing.sh```](data_preprocessing.sh) script; *before running this script, open it to edit the necessary file path variables (indicated at the top of the file)*.\n",
    "\n",
    "## Sections\n",
    "\n",
    "- [1. Data Partition](#data_partition)\\\n",
    "Partition data into training, validation and test sets.\n",
    "- [2. Data preprocessing](#data_preprocessing)\\\n",
    "Preprocess training and validation data sets with levels of disease prevalence in different subgroups.\n",
    "- [3. Model Training](#model_training)\\\n",
    "Train bias amplification models.\n",
    "- [4. Model Inference](#model_inference)\\\n",
    "Deploy models on the independent test set.\n",
    "- [5. Bias Visualization](#bias_visualization)\\\n",
    "Calculate metric and visualize model bias."
   ]
  },
  {
   "cell_type": "markdown",
   "id": "2e802fe6",
   "metadata": {},
   "source": [
    "<a id='data_partition'></a>\n",
    "## 1. Data Partition\n",
    "\n",
    "After data are converted to *.png* files, they needed to be properly partitioned into training, validation and testing sets. In this experiment, all the data sets are equally stratified by patient sex (male and female), race (white and black) and COVID status (positive and negative). For each patient, only 1 image is selected. To accelerate the whole experiment process, only 50% of the Open-A1 dataset is used. "
   ]
  },
  {
   "cell_type": "code",
   "execution_count": 2,
   "id": "0c1d78c6",
   "metadata": {},
   "outputs": [
    {
     "name": "stdout",
     "output_type": "stream",
     "text": [
      "Beginning bootstrapping\n",
      "\n",
      "Number of patients/subgroup in input summary:\n",
      "| subgroup       |   count |\n",
      "|:---------------|--------:|\n",
      "| F-Black-No-CR  |     676 |\n",
      "| F-Black-Yes-CR |    1913 |\n",
      "| F-White-No-CR  |    2004 |\n",
      "| F-White-Yes-CR |    1250 |\n",
      "| M-Black-No-CR  |     658 |\n",
      "| M-Black-Yes-CR |    1683 |\n",
      "| M-White-No-CR  |    1863 |\n",
      "| M-White-Yes-CR |    1333 |\n",
      "\n",
      "By patient summary of data partition\n",
      "\n",
      "| subgroup       |   independent_test |   train |   validation |   All |\n",
      "|:---------------|-------------------:|--------:|-------------:|------:|\n",
      "| F-Black-No-CR  |                 99 |     164 |           66 |   329 |\n",
      "| F-Black-Yes-CR |                 99 |     164 |           66 |   329 |\n",
      "| F-White-No-CR  |                 99 |     164 |           66 |   329 |\n",
      "| F-White-Yes-CR |                 99 |     164 |           66 |   329 |\n",
      "| M-Black-No-CR  |                 99 |     164 |           66 |   329 |\n",
      "| M-Black-Yes-CR |                 99 |     164 |           66 |   329 |\n",
      "| M-White-No-CR  |                 99 |     164 |           66 |   329 |\n",
      "| M-White-Yes-CR |                 99 |     164 |           66 |   329 |\n",
      "| All            |                792 |    1312 |          528 |  2632 |\n",
      "\n",
      "DONE\n",
      "\n"
     ]
    }
   ],
   "source": [
    "# data partition\n",
    "jpeg_save_dir = \"data/open_A1_jpegs\"\n",
    "# EDIT. folder to save partitioning csv lists and conduct experiments\n",
    "main_dir = \"quantitative_misrepresentation\"\n",
    "conversion_file = jpeg_save_dir + \"/conversion_table.json\"\n",
    "%run ../src/utils/data_partitions.py \\\n",
    "    --input_list \"data/open_A1_summary.json\" \\\n",
    "    --conversion_file \"{conversion_file}\" \\\n",
    "    --test_size 0.3 \\\n",
    "    --validation_size 0.2 \\\n",
    "    --save_dir \"{main_dir}\" \\\n",
    "    --max_img_per_patient 1 \\\n",
    "    --tasks 'M' 'F' 'White' 'Black' 'Yes' 'No' \\\n",
    "    --patient_img_selection_mode \"random\" \\\n",
    "    --random_seed 2 \\\n",
    "    --subsample_rate 0.5"
   ]
  },
  {
   "cell_type": "markdown",
   "id": "57825f83",
   "metadata": {},
   "source": [
    "<a id='data_preprocessing'></a>\n",
    "## 2. Data Preprocessing\n",
    "\n",
    "To amplify the model bias by quantitative misrepresentation, the first step is to vary the disease prevalence within each subgroup in the **training set** while maintaining constant overall disease prevalence and subgroup distribution. \n",
    "As an example, this demonstration amplifies bias between subgroups defined by patient sex (male or female). You can run the following code to sample the disease prevalence to 0%, 25%, 50%, 75% and 100% in \"F\" (female) subgroup, while the disease prevalence in \"M\" (male) will be 100%, 75%, 50%, 25% and 0% respectively. Note that training set with 50% disease prevalence in each subgroup serves as the baseline.\n",
    "The code will save resulted training set *.csv* files and renamed with subgroup disease prevalence (e.g., training set with 25% disease prevalence in female subgroup will be saved as *25FP_train.csv*)."
   ]
  },
  {
   "cell_type": "code",
   "execution_count": 3,
   "id": "63e53231",
   "metadata": {},
   "outputs": [
    {
     "name": "stdout",
     "output_type": "stream",
     "text": [
      "Start data sampling with prevalence of 0.0 for F in train.csv\n",
      "Start data sampling with prevalence of 0.25 for F in train.csv\n",
      "Start data sampling with prevalence of 0.5 for F in train.csv\n",
      "Start data sampling with prevalence of 0.75 for F in train.csv\n",
      "Start data sampling with prevalence of 1.0 for F in train.csv\n",
      "Start data sampling with prevalence of 0.0 for F in validation.csv\n",
      "Start data sampling with prevalence of 0.25 for F in validation.csv\n",
      "Start data sampling with prevalence of 0.5 for F in validation.csv\n",
      "Start data sampling with prevalence of 0.75 for F in validation.csv\n",
      "Start data sampling with prevalence of 1.0 for F in validation.csv\n"
     ]
    }
   ],
   "source": [
    "# manipulate subgroup disease prevalence in training/validation set\n",
    "%run ../src/utils/quantitative_misrepresentation_data_process.py \\\n",
    "    --input_file \"train.csv\" \\\n",
    "    --prevalences 0 0.25 0.5 0.75 1 \\\n",
    "    --test_subgroup \"F\" \\\n",
    "    --in_dir \"{main_dir}\" \\\n",
    "    --save_dir \"{main_dir}\"\n",
    "%run ../src/utils/quantitative_misrepresentation_data_process.py \\\n",
    "    --input_file \"validation.csv\" \\\n",
    "    --prevalences 0 0.25 0.5 0.75 1 \\\n",
    "    --test_subgroup \"F\" \\\n",
    "    --in_dir \"{main_dir}\" \\\n",
    "    --save_dir \"{main_dir}\""
   ]
  },
  {
   "cell_type": "markdown",
   "id": "33e03fb2",
   "metadata": {},
   "source": [
    "<a id='model_training'></a>\n",
    "## 3. Model Training\n",
    "\n",
    "After data preprocessing is done, you can run the following cell to train models with these different training sets. In this demonstration we use *ResNet-18* as the example network architecture, and pre-trained weights trained from a contrastive\n",
    "self-supervised learning (CSL) approach and data from the CheXpert data. This weight file can be found in the *example/* directory."
   ]
  },
  {
   "cell_type": "code",
   "execution_count": 4,
   "id": "04af6d98",
   "metadata": {},
   "outputs": [
    {
     "name": "stdout",
     "output_type": "stream",
     "text": [
      "Start experiment...\n",
      "Using custom pretrained checkpoint file\n",
      "Full fine tuning selected\n",
      "Training for task: Yes\n"
     ]
    },
    {
     "data": {
      "application/vnd.jupyter.widget-view+json": {
       "model_id": "8b95732cf17c4dcca1fb15af6e9bb294",
       "version_major": 2,
       "version_minor": 0
      },
      "text/plain": [
       "IntProgress(value=0, description='Training progress:', max=10, style=ProgressStyle(bar_color='#007CBA', descri…"
      ]
     },
     "metadata": {},
     "output_type": "display_data"
    },
    {
     "data": {
      "application/vnd.jupyter.widget-view+json": {
       "model_id": "7f685b5a1975463a81e17ad69189cd9a",
       "version_major": 2,
       "version_minor": 0
      },
      "text/plain": [
       "IntProgress(value=0, description='Current epoch:', max=14, style=ProgressStyle(bar_color='#64b5de', descriptio…"
      ]
     },
     "metadata": {},
     "output_type": "display_data"
    },
    {
     "name": "stdout",
     "output_type": "stream",
     "text": [
      "EPOCH\tTR-AVG-LOSS\tVD-AUC\n",
      "> 0\t0.68515\t\t0.70960\n",
      "> 3\t0.37510\t\t0.85233\n",
      "> 6\t0.30330\t\t0.88487\n",
      "> 9\t0.29687\t\t0.88780\n",
      "Final epoch model saved to: quantitative_misrepresentation/0FP/pytorch_last_epoch_model.onnx\n",
      "END.\n",
      "Start experiment...\n",
      "Using custom pretrained checkpoint file\n",
      "Full fine tuning selected\n",
      "Training for task: Yes\n"
     ]
    },
    {
     "data": {
      "application/vnd.jupyter.widget-view+json": {
       "model_id": "93562f826fa5432ca00eae738b337454",
       "version_major": 2,
       "version_minor": 0
      },
      "text/plain": [
       "IntProgress(value=0, description='Training progress:', max=10, style=ProgressStyle(bar_color='#007CBA', descri…"
      ]
     },
     "metadata": {},
     "output_type": "display_data"
    },
    {
     "data": {
      "application/vnd.jupyter.widget-view+json": {
       "model_id": "14c22057b76d4f0d9b6b6f53c13ea8ea",
       "version_major": 2,
       "version_minor": 0
      },
      "text/plain": [
       "IntProgress(value=0, description='Current epoch:', max=14, style=ProgressStyle(bar_color='#64b5de', descriptio…"
      ]
     },
     "metadata": {},
     "output_type": "display_data"
    },
    {
     "name": "stdout",
     "output_type": "stream",
     "text": [
      "EPOCH\tTR-AVG-LOSS\tVD-AUC\n",
      "> 0\t0.69242\t\t0.61570\n",
      "> 3\t0.55157\t\t0.74799\n",
      "> 6\t0.51268\t\t0.75689\n",
      "> 9\t0.50107\t\t0.75792\n",
      "Final epoch model saved to: quantitative_misrepresentation/25FP/pytorch_last_epoch_model.onnx\n",
      "END.\n",
      "Start experiment...\n",
      "Using custom pretrained checkpoint file\n",
      "Full fine tuning selected\n",
      "Training for task: Yes\n"
     ]
    },
    {
     "data": {
      "application/vnd.jupyter.widget-view+json": {
       "model_id": "b2739fd0358e467789911ad3c267ae18",
       "version_major": 2,
       "version_minor": 0
      },
      "text/plain": [
       "IntProgress(value=0, description='Training progress:', max=10, style=ProgressStyle(bar_color='#007CBA', descri…"
      ]
     },
     "metadata": {},
     "output_type": "display_data"
    },
    {
     "data": {
      "application/vnd.jupyter.widget-view+json": {
       "model_id": "cc9148a32fac437f98d1eca6a1086a7f",
       "version_major": 2,
       "version_minor": 0
      },
      "text/plain": [
       "IntProgress(value=0, description='Current epoch:', max=14, style=ProgressStyle(bar_color='#64b5de', descriptio…"
      ]
     },
     "metadata": {},
     "output_type": "display_data"
    },
    {
     "name": "stdout",
     "output_type": "stream",
     "text": [
      "EPOCH\tTR-AVG-LOSS\tVD-AUC\n",
      "> 0\t0.69438\t\t0.50109\n",
      "> 3\t0.60899\t\t0.66041\n",
      "> 6\t0.56757\t\t0.68475\n",
      "> 9\t0.56530\t\t0.68647\n",
      "Final epoch model saved to: quantitative_misrepresentation/50FP/pytorch_last_epoch_model.onnx\n",
      "END.\n",
      "Start experiment...\n",
      "Using custom pretrained checkpoint file\n",
      "Full fine tuning selected\n",
      "Training for task: Yes\n"
     ]
    },
    {
     "data": {
      "application/vnd.jupyter.widget-view+json": {
       "model_id": "913a3215b1f44e9788e0e6d78cbd2bee",
       "version_major": 2,
       "version_minor": 0
      },
      "text/plain": [
       "IntProgress(value=0, description='Training progress:', max=10, style=ProgressStyle(bar_color='#007CBA', descri…"
      ]
     },
     "metadata": {},
     "output_type": "display_data"
    },
    {
     "data": {
      "application/vnd.jupyter.widget-view+json": {
       "model_id": "b3e978ca3ecf4ceda976f1a9f2c29695",
       "version_major": 2,
       "version_minor": 0
      },
      "text/plain": [
       "IntProgress(value=0, description='Current epoch:', max=14, style=ProgressStyle(bar_color='#64b5de', descriptio…"
      ]
     },
     "metadata": {},
     "output_type": "display_data"
    },
    {
     "name": "stdout",
     "output_type": "stream",
     "text": [
      "EPOCH\tTR-AVG-LOSS\tVD-AUC\n",
      "> 0\t0.69245\t\t0.59550\n",
      "> 3\t0.55637\t\t0.74426\n",
      "> 6\t0.51613\t\t0.76010\n",
      "> 9\t0.50842\t\t0.76286\n",
      "Final epoch model saved to: quantitative_misrepresentation/75FP/pytorch_last_epoch_model.onnx\n",
      "END.\n",
      "Start experiment...\n",
      "Using custom pretrained checkpoint file\n",
      "Full fine tuning selected\n",
      "Training for task: Yes\n"
     ]
    },
    {
     "data": {
      "application/vnd.jupyter.widget-view+json": {
       "model_id": "f1f35fb999b548fc88bf4feaf05c6f65",
       "version_major": 2,
       "version_minor": 0
      },
      "text/plain": [
       "IntProgress(value=0, description='Training progress:', max=10, style=ProgressStyle(bar_color='#007CBA', descri…"
      ]
     },
     "metadata": {},
     "output_type": "display_data"
    },
    {
     "data": {
      "application/vnd.jupyter.widget-view+json": {
       "model_id": "0e58f9616c0042388ee60ceaa2336bf1",
       "version_major": 2,
       "version_minor": 0
      },
      "text/plain": [
       "IntProgress(value=0, description='Current epoch:', max=14, style=ProgressStyle(bar_color='#64b5de', descriptio…"
      ]
     },
     "metadata": {},
     "output_type": "display_data"
    },
    {
     "name": "stdout",
     "output_type": "stream",
     "text": [
      "EPOCH\tTR-AVG-LOSS\tVD-AUC\n",
      "> 0\t0.68829\t\t0.65335\n",
      "> 3\t0.42065\t\t0.87592\n",
      "> 6\t0.34436\t\t0.89273\n",
      "> 9\t0.32807\t\t0.89405\n",
      "Final epoch model saved to: quantitative_misrepresentation/100FP/pytorch_last_epoch_model.onnx\n",
      "END.\n"
     ]
    }
   ],
   "source": [
    "# model training\n",
    "exp_list = [\"0FP\", \"25FP\", \"50FP\", \"75FP\", \"100FP\"]\n",
    "for exp in exp_list:\n",
    "    %run ../src/utils/model_train.py --input_train_file \"{main_dir}/{exp}_train.csv\" \\\n",
    "                                     --validation_file \"{main_dir}/{exp}_validation.csv\" \\\n",
    "                                     --output_base_dir \"{main_dir}/{exp}\" \\\n",
    "                                     --log_path \"{main_dir}/{exp}/run_log.log\" \\\n",
    "                                     --custom_checkpoint_file \"csl.pth.tar\" \\\n",
    "                                     --optimizer \"adam\" \\\n",
    "                                     --gpu_id 0 \\\n",
    "                                     --save_every_N_epochs 3 \\\n",
    "                                     --pretrained_weights True"
   ]
  },
  {
   "cell_type": "markdown",
   "id": "a2e7b65c",
   "metadata": {},
   "source": [
    "<a id='model_inference'></a>\n",
    "## 4. Model Inference\n",
    "\n",
    "After model training is done, you can deploy the models on the independent testing set by running the following cell. The inference code will save prediction scores as *results__.tsv* files under the same directory."
   ]
  },
  {
   "cell_type": "code",
   "execution_count": 8,
   "id": "5c86c8c2",
   "metadata": {},
   "outputs": [
    {
     "name": "stdout",
     "output_type": "stream",
     "text": [
      "Start inference...\n",
      " There are 792 test samples in the list\n",
      " AUROC = 0.5627\n",
      " Time taken: 71.20 seconds\n",
      "END.\n",
      "Start inference...\n",
      " There are 792 test samples in the list\n",
      " AUROC = 0.6247\n",
      " Time taken: 71.19 seconds\n",
      "END.\n",
      "Start inference...\n",
      " There are 792 test samples in the list\n",
      " AUROC = 0.6723\n",
      " Time taken: 70.28 seconds\n",
      "END.\n",
      "Start inference...\n",
      " There are 792 test samples in the list\n",
      " AUROC = 0.6559\n",
      " Time taken: 69.81 seconds\n",
      "END.\n",
      "Start inference...\n",
      " There are 792 test samples in the list\n",
      " AUROC = 0.5778\n",
      " Time taken: 70.30 seconds\n",
      "END.\n"
     ]
    }
   ],
   "source": [
    "# model inference\n",
    "for exp in exp_list:\n",
    "    %run ../src/utils/model_inference.py \\\n",
    "        --input_list_file \"{main_dir}/independent_test.csv\" \\\n",
    "        --weight_file \"{main_dir}/{exp}/pytorch_last_epoch_model.onnx\" \\\n",
    "        --gpu_id 0 \\\n",
    "        --log_path \"{main_dir}/{exp}/inference_log.log\""
   ]
  },
  {
   "cell_type": "markdown",
   "id": "c0b5d190",
   "metadata": {},
   "source": [
    "<a id='bias_visualization'></a>\n",
    "## 5. Bias Visualization\n",
    "\n",
    "After inference, you can analyze the model bias by running the following code. The analysis code here will calculate the subgroup **predicted prevalence** and **AUROC** , and plot these measurements with respect to training disease prevalence differences between two subgroups."
   ]
  },
  {
   "cell_type": "code",
   "execution_count": 9,
   "id": "e3ffbe48",
   "metadata": {
    "scrolled": true
   },
   "outputs": [
    {
     "name": "stdout",
     "output_type": "stream",
     "text": [
      "\n",
      "Start subgroup bias measurements\n"
     ]
    },
    {
     "data": {
      "image/png": "[encoded data removed]",
      "text/plain": [
       "<Figure size 1000x400 with 2 Axes>"
      ]
     },
     "metadata": {},
     "output_type": "display_data"
    },
    {
     "name": "stdout",
     "output_type": "stream",
     "text": [
      "\n",
      "Done\n",
      "\n"
     ]
    }
   ],
   "source": [
    "# metric calculation\n",
    "%run ../src/utils/bias_analysis.py \\\n",
    "    --main_dir \"{main_dir}\" \\\n",
    "    --exp_list \"0FP\" \"25FP\" \"50FP\" \"75FP\" \"100FP\" \\\n",
    "    --amplification_type \"quantitative misrepresentation\" \\\n",
    "    --testing_result_file \"results__.tsv\" \\\n",
    "    --testing_info_file \"{main_dir}/independent_test.csv\" \\\n",
    "    --test_subgroup \"sex\" "
   ]
  }
 ],
 "metadata": {
  "kernelspec": {
   "display_name": "Python 3 (ipykernel)",
   "language": "python",
   "name": "python3"
  },
  "language_info": {
   "codemirror_mode": {
    "name": "ipython",
    "version": 3
   },
   "file_extension": ".py",
   "mimetype": "text/x-python",
   "name": "python",
   "nbconvert_exporter": "python",
   "pygments_lexer": "ipython3",
   "version": "3.9.13"
  }
 },
 "nbformat": 4,
 "nbformat_minor": 5
}
