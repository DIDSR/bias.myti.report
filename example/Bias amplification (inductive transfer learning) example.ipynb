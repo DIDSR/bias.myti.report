{
 "cells": [
  {
   "cell_type": "markdown",
   "id": "26e724db",
   "metadata": {},
   "source": [
    "# Bias Amplification by Inductive Transfer Learning\n",
    "\n",
    "This notebook guides you through the process of bias amplification by inductive transfer learning. This demonstration uses chest X-ray images from the Medical Imaging & Data Resource Center (MIDRC) Open-A1 data set as the example, and provides you with the instruction on how to train and deploy the model, as well as visualize the amplified bias.\n",
    "The inductive transfer learning approach establishes a two-step transfer learning process to amplify bias. In the first step, the AI model is trained to classify patients according to a subgroup attribute (e.g., patient sex). In the second step, the model is fine-tuned to the target clinical task. Additional control over the degree to which bias is promoted using this process can be obtained by altering the number of layers frozen during the second training step.\n",
    "\n",
    "## Sections\n",
    "\n",
    "- [1. Data Download and Conversion](#data_download)\\\n",
    "Download required data set from MIDRC and convert *dicom* to *.png* files.\n",
    "- [2. Data Partition](#data_partition)\\\n",
    "Partition data into training, validation and test sets.\n",
    "- [3. Model Training](#model_training)\\\n",
    "Train bias amplification models.\n",
    "    - [3.1 First Step Training](#model_training_1)\\\n",
    "    Train the model to classify subgroup attributes.\n",
    "    - [3.2 Second Step Training](#model_training_2)\\\n",
    "    Fine-tune the model to preform clinical tasks.\n",
    "    - [3.3 Baseline Model Training](#model_training_b)\\\n",
    "    Train the baseline model without bias amplification.\n",
    "- [4. Model Inference](#model_inference)\\\n",
    "Deploy models on the independent test set.\n",
    "- [5. Bias Visualization](#bias_visualization)\\\n",
    "Calculate metric and visualize model bias."
   ]
  },
  {
   "cell_type": "markdown",
   "id": "92934b3a",
   "metadata": {},
   "source": [
    "<a id='data_download'></a>\n",
    "## 1. Data Download and Conversion\n",
    "\n",
    "(**Please skip this step if you have already done**)The example uses MIDRC Open-A1 chest X-ray dataset ([MIDRC official website](https://data.midrc.org/)), which can be accessed and downloaded by following the instruction ([link for download instruction](https://data.midrc.org/dashboard/Public/documentation/Gen3_MIDRC_GetStarted.pdf)). Several *.tsv* files that include study case, patient demography and image information can also be downloaded from the website (for your convenience, we have already included them in this repository). After data is successfully downloaded, the script below will generate *.json* data summary file, and convert dicom files to *.png* files.\n",
    "**Warning: This section may take 10+ hours to finish.**"
   ]
  },
  {
   "cell_type": "code",
   "execution_count": null,
   "id": "3987df4b",
   "metadata": {},
   "outputs": [
    {
     "name": "stdout",
     "output_type": "stream",
     "text": [
      "There are 17214 patients\n"
     ]
    }
   ],
   "source": [
    "# data summarization\n",
    "\n",
    "# this is the directory where dicom data files are saved\n",
    "data_dir = \"/gpfs_projects/ravi.samala/DATA/MIDRC3/20221010_open_A1_CRDX_unzip\"\n",
    "# directory to save output summary file\n",
    "output_file = \"data/20221010_summary_table__open_A1.json\" \n",
    "%run ../src/utils/data_summarize.py \\\n",
    "    -i \"{data_dir}\" \\\n",
    "    -c \"data/20221010_open_A1_all_Cases.tsv\" \\\n",
    "    -s \"data/20221010_open_A1_all_Imaging_Series.tsv\" \\\n",
    "    -o \"{output_file}\"\n",
    "# convert dicom to png file\n",
    "png_save_dir = \"/gpfs_projects/yuhang.zhang/OUT/2022_CXR/open_a1_jpeg\" # EDIT. directory to save png files\n",
    "%run ../src/utils/data_conversion.py \\\n",
    "    --save_dir \"{png_save_dir}\" \\\n",
    "    --input_file \"data/20221010_summary_table__open_A1.json\""
   ]
  },
  {
   "cell_type": "markdown",
   "id": "5d50147d",
   "metadata": {},
   "source": [
    "<a id='data_partition'></a>\n",
    "## 2. Data Partition\n",
    "\n",
    "After data are converted to *.png* files, they needed to be properly partitioned into training, validation and testing sets. In this experiment, all the data sets are equally stratified by patient sex (male and female), race (white and black) and COVID status (positive and negative). For each patient, only 1 image is selected (only CR images are used). To accelerate the whole experiment process, only 25% of the image data is used in this example. "
   ]
  },
  {
   "cell_type": "code",
   "execution_count": 8,
   "id": "bf503389",
   "metadata": {},
   "outputs": [
    {
     "name": "stdout",
     "output_type": "stream",
     "text": [
      "Beginning bootstrapping\n",
      "\n",
      "Number of patients/subgroup in input summary:\n",
      "| subgroup       |   count |\n",
      "|:---------------|--------:|\n",
      "| F-Black-No-CR  |     678 |\n",
      "| F-Black-Yes-CR |    1913 |\n",
      "| F-White-No-CR  |    2004 |\n",
      "| F-White-Yes-CR |    1250 |\n",
      "| M-Black-No-CR  |     658 |\n",
      "| M-Black-Yes-CR |    1684 |\n",
      "| M-White-No-CR  |    1864 |\n",
      "| M-White-Yes-CR |    1333 |\n",
      "\n",
      "By patient summary of data partition\n",
      "\n",
      "| subgroup       |   independent_test |   train |   validation |   All |\n",
      "|:---------------|-------------------:|--------:|-------------:|------:|\n",
      "| F-Black-No-CR  |                 49 |      82 |           33 |   164 |\n",
      "| F-Black-Yes-CR |                 49 |      82 |           33 |   164 |\n",
      "| F-White-No-CR  |                 49 |      82 |           33 |   164 |\n",
      "| F-White-Yes-CR |                 49 |      82 |           33 |   164 |\n",
      "| M-Black-No-CR  |                 49 |      82 |           33 |   164 |\n",
      "| M-Black-Yes-CR |                 49 |      82 |           33 |   164 |\n",
      "| M-White-No-CR  |                 49 |      82 |           33 |   164 |\n",
      "| M-White-Yes-CR |                 49 |      82 |           33 |   164 |\n",
      "| All            |                392 |     656 |          264 |  1312 |\n",
      "\n",
      "DONE\n",
      "\n"
     ]
    }
   ],
   "source": [
    "# # data partitioning\n",
    "# EDIT. folder to save partitioning csv lists and conduct experiments\n",
    "main_dir = \"/gpfs_projects/yuhang.zhang/OUT/2022_CXR/juypter_indirect_test\"\n",
    "conversion_file = png_save_dir + \"/conversion_table.json\"\n",
    "%run ../src/utils/data_partitions.py \\\n",
    "    --input_list \"data/20221010_summary_table__open_A1.json\" \\\n",
    "    --conversion_file \"{conversion_file}\" \\\n",
    "    --test_size 0.3 \\\n",
    "    --validation_size 0.2 \\\n",
    "    --save_dir \"{main_dir}\" \\\n",
    "    --max_img_per_patient 1 \\\n",
    "    --tasks 'M' 'F' 'White' 'Black' 'Yes' 'No' \\\n",
    "    --patient_img_selection_mode \"random\" \\\n",
    "    --random_seed 2 \\\n",
    "    --subsample_rate 0.25"
   ]
  },
  {
   "cell_type": "markdown",
   "id": "38e11fbc",
   "metadata": {},
   "source": [
    "<a id='model_training'></a>\n",
    "## 3. Model Training\n",
    "\n",
    "After data partitioning is done, the following section will show you how to train the model to amplify the bias between subgroups. This demonstration takes patient sex as an example."
   ]
  },
  {
   "cell_type": "markdown",
   "id": "3606ef45",
   "metadata": {},
   "source": [
    "<a id='model_training_1'></a>\n",
    "### 3.1 First step training\n",
    "\n",
    "To amplify bias by inductive transfer learning, the first step is to train the model to classify subgroup attribute (patient sex). You can run the following cell to train two separate sex classification models:\n",
    " - Model where \"M\" (male) is associated with model classification of “1”\n",
    " - Model where \"F\" (female) is associated with model classification of “1”\n",
    "\n",
    "In this demonstration we use *ResNet-18* as the example network architecture, and pre-trained weights trained from a contrastive self-supervised learning (CSL) approach and data from the CheXpert data. This weight file can be found under */example/* directory."
   ]
  },
  {
   "cell_type": "code",
   "execution_count": 25,
   "id": "bb1dca1a",
   "metadata": {},
   "outputs": [
    {
     "name": "stdout",
     "output_type": "stream",
     "text": [
      "Start experiment...\n",
      "Full fine tuning selected\n",
      "Training for task: M\n",
      "EPOCH\tTR-AVG-LOSS\tVD-AUC\n",
      "> 0\t0.69086\t\t0.67063\n",
      "> 3\t0.43531\t\t0.85784\n",
      "> 6\t0.36670\t\t0.88114\n",
      "> 9\t0.33906\t\t0.88384\n",
      "Final epoch model saved to: /gpfs_projects/yuhang.zhang/OUT/2022_CXR/juypter_indirect_test/M/pytorch_last_epoch_model.onnx\n",
      "END.\n",
      "Start experiment...\n",
      "Full fine tuning selected\n",
      "Training for task: F\n",
      "EPOCH\tTR-AVG-LOSS\tVD-AUC\n",
      "> 0\t0.68852\t\t0.72848\n",
      "> 3\t0.45185\t\t0.86943\n",
      "> 6\t0.37820\t\t0.88160\n",
      "> 9\t0.35136\t\t0.88481\n",
      "Final epoch model saved to: /gpfs_projects/yuhang.zhang/OUT/2022_CXR/juypter_indirect_test/F/pytorch_last_epoch_model.onnx\n",
      "END.\n"
     ]
    }
   ],
   "source": [
    "# first step training\n",
    "task_list = [\"M\", \"F\"]\n",
    "for task in task_list:\n",
    "    %run ../src/utils/model_train.py -i \"{main_dir}/train.csv\" \\\n",
    "                                     -v \"{main_dir}/validation.csv\" \\\n",
    "                                     -o \"{main_dir}/{task}\" \\\n",
    "                                     -l \"{main_dir}/{task}/run_log.log\" \\\n",
    "                                     -c \"csl.pth.tar\" \\\n",
    "                                     -p \"adam\" \\\n",
    "                                     -g 0 \\\n",
    "                                     -e 3 \\\n",
    "                                     --random_state 0 \\\n",
    "                                     --pretrained_weights True \\\n",
    "                                     --train_task \"{task}\""
   ]
  },
  {
   "cell_type": "markdown",
   "id": "c3728d79",
   "metadata": {},
   "source": [
    "<a id='model_training_2'></a>\n",
    "### 3.2 Second step training\n",
    "\n",
    "The second step is to fine-tune the model from step 1 to perform the target clinical task. During this step, the same training/validation sets are used. By running the following cell, you can fine-tune these two resulted models to predict COVID status, with different number of model layers being frozen. In this example, two different numbers of frozen layers are shown for both pre-trained models. "
   ]
  },
  {
   "cell_type": "code",
   "execution_count": 26,
   "id": "ed95cfb2",
   "metadata": {},
   "outputs": [
    {
     "name": "stdout",
     "output_type": "stream",
     "text": [
      "Start experiment...\n",
      "Fine tuning with first 1 layers frozen\n",
      "Training for task: Yes\n",
      "EPOCH\tTR-AVG-LOSS\tVD-AUC\n",
      "> 0\t0.80943\t\t0.61186\n",
      "> 3\t0.58666\t\t0.67246\n",
      "> 6\t0.57248\t\t0.67723\n",
      "> 9\t0.55218\t\t0.67889\n",
      "Final epoch model saved to: /gpfs_projects/yuhang.zhang/OUT/2022_CXR/juypter_indirect_test/M_1_frozen_layer/pytorch_last_epoch_model.onnx\n",
      "END.\n",
      "Start experiment...\n",
      "Fine tuning with first 9 layers frozen\n",
      "Training for task: Yes\n",
      "EPOCH\tTR-AVG-LOSS\tVD-AUC\n",
      "> 0\t0.81991\t\t0.60279\n",
      "> 3\t0.60847\t\t0.65502\n",
      "> 6\t0.59374\t\t0.66012\n",
      "> 9\t0.57715\t\t0.66196\n",
      "Final epoch model saved to: /gpfs_projects/yuhang.zhang/OUT/2022_CXR/juypter_indirect_test/M_9_frozen_layer/pytorch_last_epoch_model.onnx\n",
      "END.\n",
      "Start experiment...\n",
      "Fine tuning with first 1 layers frozen\n",
      "Training for task: Yes\n",
      "EPOCH\tTR-AVG-LOSS\tVD-AUC\n",
      "> 0\t0.82675\t\t0.56170\n",
      "> 3\t0.62867\t\t0.62925\n",
      "> 6\t0.60666\t\t0.63786\n",
      "> 9\t0.59518\t\t0.64021\n",
      "Final epoch model saved to: /gpfs_projects/yuhang.zhang/OUT/2022_CXR/juypter_indirect_test/F_1_frozen_layer/pytorch_last_epoch_model.onnx\n",
      "END.\n",
      "Start experiment...\n",
      "Fine tuning with first 9 layers frozen\n",
      "Training for task: Yes\n",
      "EPOCH\tTR-AVG-LOSS\tVD-AUC\n",
      "> 0\t0.83881\t\t0.54993\n",
      "> 3\t0.63784\t\t0.63545\n",
      "> 6\t0.62050\t\t0.63699\n",
      "> 9\t0.61157\t\t0.63837\n",
      "Final epoch model saved to: /gpfs_projects/yuhang.zhang/OUT/2022_CXR/juypter_indirect_test/F_9_frozen_layer/pytorch_last_epoch_model.onnx\n",
      "END.\n"
     ]
    }
   ],
   "source": [
    "# second step training\n",
    "frozen_layers = [1, 9]\n",
    "for task in task_list:\n",
    "    for n in frozen_layers:\n",
    "        %run ../src/utils/model_train.py -i \"{main_dir}/train.csv\" \\\n",
    "                                         -v \"{main_dir}/validation.csv\" \\\n",
    "                                         -o \"{main_dir}/{task}_{n}_frozen_layer/\" \\\n",
    "                                         -l \"{main_dir}/{task}_{n}_frozen_layer/run_log.log\" \\\n",
    "                                         -c \"{main_dir}/{task}/checkpoint__last.pth.tar\" \\\n",
    "                                         -f \"partial\" \\\n",
    "                                         -p \"adam\" \\\n",
    "                                         -g 0 \\\n",
    "                                         -e 3 \\\n",
    "                                         --random_state 0 \\\n",
    "                                         --pretrained_weights True \\\n",
    "                                         --freeze_up_to {n}"
   ]
  },
  {
   "cell_type": "markdown",
   "id": "6f2fa346",
   "metadata": {},
   "source": [
    "<a id='model_training_b'></a>\n",
    "### 3.3 Baseline model training\n",
    "\n",
    "To show the degree to which bias is amplified by this approach, a baseline model is required to present baseline bias. You can run the following cell to train the baseline. To make fair comparison, the baseline uses the same model architecture and pre-trained weights (from CSL approach), as well as the same training/validation sets. However, it will skip the first step training, and directly train to perform COVID status prediction."
   ]
  },
  {
   "cell_type": "code",
   "execution_count": 28,
   "id": "d4ad99d0",
   "metadata": {},
   "outputs": [
    {
     "name": "stdout",
     "output_type": "stream",
     "text": [
      "Start experiment...\n",
      "Full fine tuning selected\n",
      "Training for task: Yes\n",
      "EPOCH\tTR-AVG-LOSS\tVD-AUC\n",
      "> 0\t0.69120\t\t0.53208\n",
      "> 3\t0.57902\t\t0.66977\n",
      "> 6\t0.54256\t\t0.68027\n",
      "> 9\t0.53317\t\t0.68124\n",
      "Final epoch model saved to: /gpfs_projects/yuhang.zhang/OUT/2022_CXR/juypter_indirect_test/baseline/pytorch_last_epoch_model.onnx\n",
      "END.\n"
     ]
    }
   ],
   "source": [
    "# baseline training\n",
    "%run ../src/utils/model_train.py     -i \"{main_dir}/train.csv\" \\\n",
    "                                     -v \"{main_dir}/validation.csv\" \\\n",
    "                                     -o \"{main_dir}/baseline\" \\\n",
    "                                     -l \"{main_dir}/baseline/run_log.log\" \\\n",
    "                                     -c \"checkpoint_csl.pth.tar\" \\\n",
    "                                     -p \"adam\" \\\n",
    "                                     -g 0 \\\n",
    "                                     -e 3 \\\n",
    "                                     --random_state 2 \\\n",
    "                                     --pretrained_weights True"
   ]
  },
  {
   "cell_type": "markdown",
   "id": "15e2b996",
   "metadata": {},
   "source": [
    "<a id='model_inference'></a>\n",
    "## 4. Model Inference\n",
    "\n",
    "After model training is done, you can deploy the models on the independent testing set by running the following cell. The inference code will save prediction scores as *results__.tsv* files under the same directory."
   ]
  },
  {
   "cell_type": "code",
   "execution_count": 29,
   "id": "0e26d520",
   "metadata": {},
   "outputs": [
    {
     "name": "stdout",
     "output_type": "stream",
     "text": [
      "Start inference...\n",
      " There are 392 test samples in the list\n",
      " AUROC = 0.6558\n",
      " Time taken: 61.12 seconds\n",
      "END.\n",
      "Start inference...\n",
      " There are 392 test samples in the list\n",
      " AUROC = 0.6420\n",
      " Time taken: 26.85 seconds\n",
      "END.\n",
      "Start inference...\n",
      " There are 392 test samples in the list\n",
      " AUROC = 0.6213\n",
      " Time taken: 26.97 seconds\n",
      "END.\n",
      "Start inference...\n",
      " There are 392 test samples in the list\n",
      " AUROC = 0.6077\n",
      " Time taken: 25.51 seconds\n",
      "END.\n",
      "Start inference...\n",
      " There are 392 test samples in the list\n",
      " AUROC = 0.6293\n",
      " Time taken: 25.29 seconds\n",
      "END.\n"
     ]
    }
   ],
   "source": [
    "# experiment model inference\n",
    "for task in task_list:\n",
    "    for n in frozen_layers:\n",
    "        %run ../src/utils/model_inference.py \\\n",
    "            -i \"{main_dir}/independent_test.csv\" \\\n",
    "            -w \"{main_dir}/{task}_{n}_frozen_layer/pytorch_last_epoch_model.onnx\" \\\n",
    "            -g 0 \\\n",
    "            -l \"{main_dir}/{task}_{n}_frozen_layer/inference_log.log\"\n",
    "# baseline model inference\n",
    "%run ../src/utils/model_inference.py \\\n",
    "            -i \"{main_dir}/independent_test.csv\" \\\n",
    "            -w \"{main_dir}/baseline/pytorch_last_epoch_model.onnx\" \\\n",
    "            -g 0 \\\n",
    "            -l \"{main_dir}/baseline/inference_log.log\""
   ]
  },
  {
   "cell_type": "markdown",
   "id": "45a565b5",
   "metadata": {},
   "source": [
    "<a id='bias_visualization'></a>\n",
    "## 5. Bias Visualization\n",
    "\n",
    "After inference, you can analyze the model bias by running the following code. The analysis code here will calculate the subgroup **predicted prevalence** and **AUROC** , and plot them with respect to different number of frozen layers during second step transfer learning."
   ]
  },
  {
   "cell_type": "code",
   "execution_count": 30,
   "id": "af51fc53",
   "metadata": {},
   "outputs": [
    {
     "name": "stdout",
     "output_type": "stream",
     "text": [
      "\n",
      "Start subgroup bias measurements\n"
     ]
    },
    {
     "data": {
      "image/png": "[encoded data removed]",
      "text/plain": [
       "<Figure size 1000x400 with 2 Axes>"
      ]
     },
     "metadata": {},
     "output_type": "display_data"
    },
    {
     "name": "stdout",
     "output_type": "stream",
     "text": [
      "\n",
      "Done\n",
      "\n"
     ]
    }
   ],
   "source": [
    "# bias measurements and visualization\n",
    "%run ../src/utils/bias_analysis.py \\\n",
    "    -d \"{main_dir}\" \\\n",
    "    -e \"baseline\" \"M_1_frozen_layer\" \"M_9_frozen_layer\" \"F_1_frozen_layer\" \"F_9_frozen_layer\" \\\n",
    "    -a \"inductive transfer learning\" \\\n",
    "    -r \"results__.tsv\" \\\n",
    "    -i \"{main_dir}/independent_test.csv\" \\\n",
    "    -s \"sex\" "
   ]
  }
 ],
 "metadata": {
  "kernelspec": {
   "display_name": "Python 3 (ipykernel)",
   "language": "python",
   "name": "python3"
  },
  "language_info": {
   "codemirror_mode": {
    "name": "ipython",
    "version": 3
   },
   "file_extension": ".py",
   "mimetype": "text/x-python",
   "name": "python",
   "nbconvert_exporter": "python",
   "pygments_lexer": "ipython3",
   "version": "3.9.12"
  }
 },
 "nbformat": 4,
 "nbformat_minor": 5
}
