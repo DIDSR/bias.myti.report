{
 "cells": [
  {
   "cell_type": "markdown",
   "id": "26e724db",
   "metadata": {},
   "source": [
    "# Bias Amplification by Inductive Transfer Learning\n",
    "\n",
    "This notebook guides you through the process of bias amplification by inductive transfer learning. This demonstration uses chest X-ray images from the Medical Imaging & Data Resource Center (MIDRC) Open-A1 data set as the example, and provides you with the instruction on how to train and deploy the model, as well as visualize the amplified bias.\n",
    "The inductive transfer learning approach establishes a two-step transfer learning process to amplify bias. In the first step, the AI model is trained to classify patients according to a subgroup attribute (e.g., patient sex). In the second step, the model is fine-tuned to the target clinical task. Additional control over the degree to which bias is promoted using this process can be obtained by altering the number of layers frozen during the second training step.\n",
    "\n",
    "***Note: before you can run either of the example notebooks, you must download and preprocess the data.*** The example uses MIDRC Open-A1 chest X-ray dataset ([MIDRC official website](https://data.midrc.org/)), which can be accessed and downloaded by following the instruction ([link for download instruction](https://data.midrc.org/dashboard/Public/documentation/Gen3_MIDRC_GetStarted.pdf)). The data preprocessing can be completed using the provided [```data_preprocessing.sh```](data_preprocessing.sh) script; *before running this script, open it to edit the necessary file path variables (indicated at the top of the file)*.\n",
    "\n",
    "## Sections\n",
    "\n",
    "- [1. Data Partition](#data_partition)\\\n",
    "Partition data into training, validation and test sets.\n",
    "- [2. Model Training](#model_training)\\\n",
    "Train bias amplification models.\n",
    "    - [2.1 First Step Training](#model_training_1)\\\n",
    "    Train the model to classify subgroup attributes.\n",
    "    - [2.2 Second Step Training](#model_training_2)\\\n",
    "    Fine-tune the model to preform clinical tasks.\n",
    "    - [2.3 Baseline Model Training](#model_training_b)\\\n",
    "    Train the baseline model without bias amplification.\n",
    "- [3. Model Inference](#model_inference)\\\n",
    "Deploy models on the independent test set.\n",
    "- [4. Bias Visualization](#bias_visualization)\\\n",
    "Calculate metric and visualize model bias."
   ]
  },
  {
   "cell_type": "markdown",
   "id": "5d50147d",
   "metadata": {},
   "source": [
    "<a id='data_partition'></a>\n",
    "## 1. Data Partition\n",
    "\n",
    "After data are converted to *.jpeg* files, they needed to be properly partitioned into training, validation and testing sets. In this experiment, all the data sets are equally stratified by patient sex (male and female), race (white and black) and COVID status (positive and negative). For each patient, only 1 image is selected (only CR images are used). To accelerate the whole experiment process, only 25% of the image data is used in this example. "
   ]
  },
  {
   "cell_type": "code",
   "execution_count": 2,
   "id": "bf503389",
   "metadata": {},
   "outputs": [
    {
     "name": "stdout",
     "output_type": "stream",
     "text": [
      "Beginning bootstrapping\n",
      "\n",
      "Number of patients/subgroup in input summary:\n",
      "| subgroup       |   count |\n",
      "|:---------------|--------:|\n",
      "| F-Black-No-CR  |     676 |\n",
      "| F-Black-Yes-CR |    1913 |\n",
      "| F-White-No-CR  |    2004 |\n",
      "| F-White-Yes-CR |    1250 |\n",
      "| M-Black-No-CR  |     658 |\n",
      "| M-Black-Yes-CR |    1683 |\n",
      "| M-White-No-CR  |    1863 |\n",
      "| M-White-Yes-CR |    1333 |\n",
      "\n",
      "By patient summary of data partition\n",
      "\n",
      "| subgroup       |   independent_test |   train |   validation |   All |\n",
      "|:---------------|-------------------:|--------:|-------------:|------:|\n",
      "| F-Black-No-CR  |                 49 |      82 |           33 |   164 |\n",
      "| F-Black-Yes-CR |                 49 |      82 |           33 |   164 |\n",
      "| F-White-No-CR  |                 49 |      82 |           33 |   164 |\n",
      "| F-White-Yes-CR |                 49 |      82 |           33 |   164 |\n",
      "| M-Black-No-CR  |                 49 |      82 |           33 |   164 |\n",
      "| M-Black-Yes-CR |                 49 |      82 |           33 |   164 |\n",
      "| M-White-No-CR  |                 49 |      82 |           33 |   164 |\n",
      "| M-White-Yes-CR |                 49 |      82 |           33 |   164 |\n",
      "| All            |                392 |     656 |          264 |  1312 |\n",
      "\n",
      "DONE\n",
      "\n"
     ]
    }
   ],
   "source": [
    "# # data partitioning\n",
    "# EDIT. folder to save partitioning csv lists and conduct experiments\n",
    "jpeg_save_dir = \"data/open_A1_jpegs\"\n",
    "main_dir = \"inductive_transfer_learning\"\n",
    "conversion_file = jpeg_save_dir + \"/conversion_table.json\"\n",
    "%run ../src/utils/data_partitions.py \\\n",
    "    --input_list \"data/open_A1_summary.json\" \\\n",
    "    --conversion_file \"{conversion_file}\" \\\n",
    "    --test_size 0.3 \\\n",
    "    --validation_size 0.2 \\\n",
    "    --save_dir \"{main_dir}\" \\\n",
    "    --max_img_per_patient 1 \\\n",
    "    --tasks 'M' 'F' 'White' 'Black' 'Yes' 'No' \\\n",
    "    --patient_img_selection_mode \"random\" \\\n",
    "    --random_seed 2 \\\n",
    "    --subsample_rate 0.25"
   ]
  },
  {
   "cell_type": "markdown",
   "id": "38e11fbc",
   "metadata": {},
   "source": [
    "<a id='model_training'></a>\n",
    "## 2. Model Training\n",
    "\n",
    "After data partitioning is done, the following section will show you how to train the model to amplify the bias between subgroups. As an example, this demonstration amplifies the bias between subgroups defined by patient sex."
   ]
  },
  {
   "cell_type": "markdown",
   "id": "3606ef45",
   "metadata": {},
   "source": [
    "<a id='model_training_1'></a>\n",
    "### 2.1 First step training\n",
    "\n",
    "To amplify bias by inductive transfer learning, the first step is to train the model to classify subgroup attribute (e.g., patient sex). You can run the following cell to train two separate sex classification models:\n",
    " - Model where \"M\" (male) is associated with model classification of “1” and will be associated with the COVID-positive class\n",
    " - Model where \"F\" (female) is associated with model classification of “1” and will be associated with the COVID-positive class\n",
    "\n",
    "In this demonstration we use *ResNet-18* as the example network architecture, and pre-trained weights trained from a contrastive self-supervised learning (CSL) approach and data from the CheXpert data set. This weight file can be found under *example/* directory."
   ]
  },
  {
   "cell_type": "code",
   "execution_count": 3,
   "id": "bb1dca1a",
   "metadata": {},
   "outputs": [
    {
     "name": "stdout",
     "output_type": "stream",
     "text": [
      "Start experiment...\n",
      "Using custom pretrained checkpoint file\n",
      "Full fine tuning selected\n",
      "Training for task: M\n"
     ]
    },
    {
     "data": {
      "application/vnd.jupyter.widget-view+json": {
       "model_id": "24fc05a3d5484f5f8f6b7f26de9327da",
       "version_major": 2,
       "version_minor": 0
      },
      "text/plain": [
       "IntProgress(value=0, description='Training progress:', max=10, style=ProgressStyle(bar_color='#007CBA', descri…"
      ]
     },
     "metadata": {},
     "output_type": "display_data"
    },
    {
     "data": {
      "application/vnd.jupyter.widget-view+json": {
       "model_id": "e4600c1684a049f38f73c1c8c4de5bea",
       "version_major": 2,
       "version_minor": 0
      },
      "text/plain": [
       "IntProgress(value=0, description='Current epoch:', max=14, style=ProgressStyle(bar_color='#64b5de', descriptio…"
      ]
     },
     "metadata": {},
     "output_type": "display_data"
    },
    {
     "data": {
      "application/vnd.jupyter.widget-view+json": {
       "model_id": "b1418b91ff65482389a04f21d8f4c0c8",
       "version_major": 2,
       "version_minor": 0
      },
      "text/plain": [
       "GridBox(children=(VBox(children=(Label(value='EPOCH', style=LabelStyle(font_weight='bold')),), layout=Layout(b…"
      ]
     },
     "metadata": {},
     "output_type": "display_data"
    },
    {
     "name": "stdout",
     "output_type": "stream",
     "text": [
      "Final epoch model saved to: inductive_transfer_learning/M/pytorch_last_epoch_model.onnx\n",
      "END.\n",
      "Start experiment...\n",
      "Using custom pretrained checkpoint file\n",
      "Full fine tuning selected\n",
      "Training for task: F\n"
     ]
    },
    {
     "data": {
      "application/vnd.jupyter.widget-view+json": {
       "model_id": "60a7da57801849d2abfa6882eb6fd3f7",
       "version_major": 2,
       "version_minor": 0
      },
      "text/plain": [
       "IntProgress(value=0, description='Training progress:', max=10, style=ProgressStyle(bar_color='#007CBA', descri…"
      ]
     },
     "metadata": {},
     "output_type": "display_data"
    },
    {
     "data": {
      "application/vnd.jupyter.widget-view+json": {
       "model_id": "686d1971fc014c2eb12c3d7376b13d3a",
       "version_major": 2,
       "version_minor": 0
      },
      "text/plain": [
       "IntProgress(value=0, description='Current epoch:', max=14, style=ProgressStyle(bar_color='#64b5de', descriptio…"
      ]
     },
     "metadata": {},
     "output_type": "display_data"
    },
    {
     "data": {
      "application/vnd.jupyter.widget-view+json": {
       "model_id": "9cb50eff32394fe79eeb64f30a7668ae",
       "version_major": 2,
       "version_minor": 0
      },
      "text/plain": [
       "GridBox(children=(VBox(children=(Label(value='EPOCH', style=LabelStyle(font_weight='bold')),), layout=Layout(b…"
      ]
     },
     "metadata": {},
     "output_type": "display_data"
    },
    {
     "name": "stdout",
     "output_type": "stream",
     "text": [
      "Final epoch model saved to: inductive_transfer_learning/F/pytorch_last_epoch_model.onnx\n",
      "END.\n"
     ]
    }
   ],
   "source": [
    "# first step training\n",
    "task_list = [\"M\", \"F\"]\n",
    "for task in task_list:\n",
    "    %run ../src/utils/model_train.py --input_train_file \"{main_dir}/train.csv\" \\\n",
    "                                     --validation_file \"{main_dir}/validation.csv\" \\\n",
    "                                     --output_base_dir \"{main_dir}/{task}\" \\\n",
    "                                     --log_path \"{main_dir}/{task}/run_log.log\" \\\n",
    "                                     --custom_checkpoint_file \"csl.pth.tar\" \\\n",
    "                                     --optimizer \"adam\" \\\n",
    "                                     --gpu_id 0 \\\n",
    "                                     --save_every_N_epochs 3 \\\n",
    "                                     --random_state 0 \\\n",
    "                                     --pretrained_weights True \\\n",
    "                                     --train_task \"{task}\""
   ]
  },
  {
   "cell_type": "markdown",
   "id": "c3728d79",
   "metadata": {},
   "source": [
    "<a id='model_training_2'></a>\n",
    "### 2.2 Second step training\n",
    "\n",
    "The second step is to fine-tune the model from step 1 to perform the target clinical task. During this step, the same training/validation sets are used. By running the following cell, you can fine-tune these two resulted models to predict COVID status, with different number of model layers being frozen. In this example, two different numbers of frozen layers are shown for both pre-trained models. "
   ]
  },
  {
   "cell_type": "code",
   "execution_count": 4,
   "id": "ed95cfb2",
   "metadata": {},
   "outputs": [
    {
     "name": "stdout",
     "output_type": "stream",
     "text": [
      "Start experiment...\n",
      "Using custom pretrained checkpoint file\n",
      "Fine tuning with first 1 layers frozen\n",
      "Training for task: Yes\n"
     ]
    },
    {
     "data": {
      "application/vnd.jupyter.widget-view+json": {
       "model_id": "1c2ca2e507a243e6925fbfdb90d6fc34",
       "version_major": 2,
       "version_minor": 0
      },
      "text/plain": [
       "IntProgress(value=0, description='Training progress:', max=10, style=ProgressStyle(bar_color='#007CBA', descri…"
      ]
     },
     "metadata": {},
     "output_type": "display_data"
    },
    {
     "data": {
      "application/vnd.jupyter.widget-view+json": {
       "model_id": "4eae8550e82d49d3b3d05216bc518642",
       "version_major": 2,
       "version_minor": 0
      },
      "text/plain": [
       "IntProgress(value=0, description='Current epoch:', max=14, style=ProgressStyle(bar_color='#64b5de', descriptio…"
      ]
     },
     "metadata": {},
     "output_type": "display_data"
    },
    {
     "data": {
      "application/vnd.jupyter.widget-view+json": {
       "model_id": "29df685f1c384ff8a7cc87b84fb755da",
       "version_major": 2,
       "version_minor": 0
      },
      "text/plain": [
       "GridBox(children=(VBox(children=(Label(value='EPOCH', style=LabelStyle(font_weight='bold')),), layout=Layout(b…"
      ]
     },
     "metadata": {},
     "output_type": "display_data"
    },
    {
     "name": "stdout",
     "output_type": "stream",
     "text": [
      "Final epoch model saved to: inductive_transfer_learning/M_1_frozen_layer/pytorch_last_epoch_model.onnx\n",
      "END.\n",
      "Start experiment...\n",
      "Using custom pretrained checkpoint file\n",
      "Fine tuning with first 9 layers frozen\n",
      "Training for task: Yes\n"
     ]
    },
    {
     "data": {
      "application/vnd.jupyter.widget-view+json": {
       "model_id": "b50069fabb544dccbc485a5f9d8bb01d",
       "version_major": 2,
       "version_minor": 0
      },
      "text/plain": [
       "IntProgress(value=0, description='Training progress:', max=10, style=ProgressStyle(bar_color='#007CBA', descri…"
      ]
     },
     "metadata": {},
     "output_type": "display_data"
    },
    {
     "data": {
      "application/vnd.jupyter.widget-view+json": {
       "model_id": "82f35c71977a4e6da775fa63d045f398",
       "version_major": 2,
       "version_minor": 0
      },
      "text/plain": [
       "IntProgress(value=0, description='Current epoch:', max=14, style=ProgressStyle(bar_color='#64b5de', descriptio…"
      ]
     },
     "metadata": {},
     "output_type": "display_data"
    },
    {
     "data": {
      "application/vnd.jupyter.widget-view+json": {
       "model_id": "ea898fedf8f54a62bb068d645252ec7b",
       "version_major": 2,
       "version_minor": 0
      },
      "text/plain": [
       "GridBox(children=(VBox(children=(Label(value='EPOCH', style=LabelStyle(font_weight='bold')),), layout=Layout(b…"
      ]
     },
     "metadata": {},
     "output_type": "display_data"
    },
    {
     "name": "stdout",
     "output_type": "stream",
     "text": [
      "Final epoch model saved to: inductive_transfer_learning/M_9_frozen_layer/pytorch_last_epoch_model.onnx\n",
      "END.\n",
      "Start experiment...\n",
      "Using custom pretrained checkpoint file\n",
      "Fine tuning with first 1 layers frozen\n",
      "Training for task: Yes\n"
     ]
    },
    {
     "data": {
      "application/vnd.jupyter.widget-view+json": {
       "model_id": "2a7a130d1b054c3196cd3bd5576326a4",
       "version_major": 2,
       "version_minor": 0
      },
      "text/plain": [
       "IntProgress(value=0, description='Training progress:', max=10, style=ProgressStyle(bar_color='#007CBA', descri…"
      ]
     },
     "metadata": {},
     "output_type": "display_data"
    },
    {
     "data": {
      "application/vnd.jupyter.widget-view+json": {
       "model_id": "852b3ea0d08a40779377c68a7cf136e1",
       "version_major": 2,
       "version_minor": 0
      },
      "text/plain": [
       "IntProgress(value=0, description='Current epoch:', max=14, style=ProgressStyle(bar_color='#64b5de', descriptio…"
      ]
     },
     "metadata": {},
     "output_type": "display_data"
    },
    {
     "data": {
      "application/vnd.jupyter.widget-view+json": {
       "model_id": "229d4831917940e4814a49ae0b7d9238",
       "version_major": 2,
       "version_minor": 0
      },
      "text/plain": [
       "GridBox(children=(VBox(children=(Label(value='EPOCH', style=LabelStyle(font_weight='bold')),), layout=Layout(b…"
      ]
     },
     "metadata": {},
     "output_type": "display_data"
    },
    {
     "name": "stdout",
     "output_type": "stream",
     "text": [
      "Final epoch model saved to: inductive_transfer_learning/F_1_frozen_layer/pytorch_last_epoch_model.onnx\n",
      "END.\n",
      "Start experiment...\n",
      "Using custom pretrained checkpoint file\n",
      "Fine tuning with first 9 layers frozen\n",
      "Training for task: Yes\n"
     ]
    },
    {
     "data": {
      "application/vnd.jupyter.widget-view+json": {
       "model_id": "54c672c9ce7246d0bf0348f84460bc5f",
       "version_major": 2,
       "version_minor": 0
      },
      "text/plain": [
       "IntProgress(value=0, description='Training progress:', max=10, style=ProgressStyle(bar_color='#007CBA', descri…"
      ]
     },
     "metadata": {},
     "output_type": "display_data"
    },
    {
     "data": {
      "application/vnd.jupyter.widget-view+json": {
       "model_id": "3f9c62f16e7744368812604b3642bd8e",
       "version_major": 2,
       "version_minor": 0
      },
      "text/plain": [
       "IntProgress(value=0, description='Current epoch:', max=14, style=ProgressStyle(bar_color='#64b5de', descriptio…"
      ]
     },
     "metadata": {},
     "output_type": "display_data"
    },
    {
     "data": {
      "application/vnd.jupyter.widget-view+json": {
       "model_id": "69f2a76897e2496f9f058e66b3ec14a3",
       "version_major": 2,
       "version_minor": 0
      },
      "text/plain": [
       "GridBox(children=(VBox(children=(Label(value='EPOCH', style=LabelStyle(font_weight='bold')),), layout=Layout(b…"
      ]
     },
     "metadata": {},
     "output_type": "display_data"
    },
    {
     "name": "stdout",
     "output_type": "stream",
     "text": [
      "Final epoch model saved to: inductive_transfer_learning/F_9_frozen_layer/pytorch_last_epoch_model.onnx\n",
      "END.\n"
     ]
    }
   ],
   "source": [
    "# second step training\n",
    "frozen_layers = [1, 9]\n",
    "for task in task_list:\n",
    "    for n in frozen_layers:\n",
    "        %run ../src/utils/model_train.py --input_train_file \"{main_dir}/train.csv\" \\\n",
    "                                         --validation_file \"{main_dir}/validation.csv\" \\\n",
    "                                         --output_base_dir \"{main_dir}/{task}_{n}_frozen_layer/\" \\\n",
    "                                         --log_path \"{main_dir}/{task}_{n}_frozen_layer/run_log.log\" \\\n",
    "                                         --custom_checkpoint_file \"{main_dir}/{task}/checkpoint__last.pth.tar\" \\\n",
    "                                         --fine_tuning \"partial\" \\\n",
    "                                         --optimizer \"adam\" \\\n",
    "                                         --gpu_id 0 \\\n",
    "                                         --save_every_N_epochs 3 \\\n",
    "                                         --random_state 0 \\\n",
    "                                         --pretrained_weights True \\\n",
    "                                         --freeze_up_to {n}"
   ]
  },
  {
   "cell_type": "markdown",
   "id": "6f2fa346",
   "metadata": {},
   "source": [
    "<a id='model_training_b'></a>\n",
    "### 2.3 Baseline model training\n",
    "\n",
    "To show the degree to which bias is amplified by this approach, a baseline model is required to present baseline bias. You can run the following cell to train the baseline. To make fair comparison, the baseline uses the same model architecture and pre-trained weights (from CSL approach), as well as the same training/validation sets. However, it will skip the first step training, and directly train to perform COVID status prediction."
   ]
  },
  {
   "cell_type": "code",
   "execution_count": 7,
   "id": "d4ad99d0",
   "metadata": {},
   "outputs": [
    {
     "name": "stdout",
     "output_type": "stream",
     "text": [
      "Start experiment...\n",
      "Using custom pretrained checkpoint file\n",
      "Full fine tuning selected\n",
      "Training for task: Yes\n"
     ]
    },
    {
     "data": {
      "application/vnd.jupyter.widget-view+json": {
       "model_id": "73530f8a731f439d9c8d34eb21f516e7",
       "version_major": 2,
       "version_minor": 0
      },
      "text/plain": [
       "IntProgress(value=0, description='Training progress:', max=10, style=ProgressStyle(bar_color='#007CBA', descri…"
      ]
     },
     "metadata": {},
     "output_type": "display_data"
    },
    {
     "data": {
      "application/vnd.jupyter.widget-view+json": {
       "model_id": "e55c8624e9a2464aa4a5b17c159304a6",
       "version_major": 2,
       "version_minor": 0
      },
      "text/plain": [
       "IntProgress(value=0, description='Current epoch:', max=14, style=ProgressStyle(bar_color='#64b5de', descriptio…"
      ]
     },
     "metadata": {},
     "output_type": "display_data"
    },
    {
     "data": {
      "application/vnd.jupyter.widget-view+json": {
       "model_id": "3a1944a38ddc40e3bef2ea1875f0f5f3",
       "version_major": 2,
       "version_minor": 0
      },
      "text/plain": [
       "GridBox(children=(VBox(children=(Label(value='EPOCH', style=LabelStyle(font_weight='bold')),), layout=Layout(b…"
      ]
     },
     "metadata": {},
     "output_type": "display_data"
    },
    {
     "name": "stdout",
     "output_type": "stream",
     "text": [
      "Final epoch model saved to: inductive_transfer_learning/baseline/pytorch_last_epoch_model.onnx\n",
      "END.\n"
     ]
    }
   ],
   "source": [
    "# baseline training\n",
    "%run ../src/utils/model_train.py     --input_train_file \"{main_dir}/train.csv\" \\\n",
    "                                     --validation_file \"{main_dir}/validation.csv\" \\\n",
    "                                     --output_base_dir \"{main_dir}/baseline\" \\\n",
    "                                     --log_path \"{main_dir}/baseline/run_log.log\" \\\n",
    "                                     --custom_checkpoint_file \"csl.pth.tar\" \\\n",
    "                                     --optimizer \"adam\" \\\n",
    "                                     --gpu_id 0 \\\n",
    "                                     --save_every_N_epochs 3 \\\n",
    "                                     --random_state 2 \\\n",
    "                                     --pretrained_weights True"
   ]
  },
  {
   "cell_type": "markdown",
   "id": "15e2b996",
   "metadata": {},
   "source": [
    "<a id='model_inference'></a>\n",
    "## 3. Model Inference\n",
    "\n",
    "After model training is done, you can deploy the models on the independent testing set by running the following cell. The inference code will save prediction scores as *results__.tsv* files under the same directory."
   ]
  },
  {
   "cell_type": "code",
   "execution_count": 8,
   "id": "0e26d520",
   "metadata": {},
   "outputs": [
    {
     "name": "stdout",
     "output_type": "stream",
     "text": [
      "Start inference...\n",
      " There are 392 test samples in the list\n",
      " AUROC = 0.6560\n",
      " Time taken: 44.80 seconds\n",
      "END.\n",
      "Start inference...\n",
      " There are 392 test samples in the list\n",
      " AUROC = 0.6442\n",
      " Time taken: 36.86 seconds\n",
      "END.\n",
      "Start inference...\n",
      " There are 392 test samples in the list\n",
      " AUROC = 0.6397\n",
      " Time taken: 36.53 seconds\n",
      "END.\n",
      "Start inference...\n",
      " There are 392 test samples in the list\n",
      " AUROC = 0.6398\n",
      " Time taken: 37.99 seconds\n",
      "END.\n",
      "Start inference...\n",
      " There are 392 test samples in the list\n",
      " AUROC = 0.6612\n",
      " Time taken: 37.97 seconds\n",
      "END.\n"
     ]
    }
   ],
   "source": [
    "# experiment model inference\n",
    "for task in task_list:\n",
    "    for n in frozen_layers:\n",
    "        %run ../src/utils/model_inference.py \\\n",
    "            --input_list_file \"{main_dir}/independent_test.csv\" \\\n",
    "            --weight_file \"{main_dir}/{task}_{n}_frozen_layer/pytorch_last_epoch_model.onnx\" \\\n",
    "            --gpu_id 0 \\\n",
    "            --log_path \"{main_dir}/{task}_{n}_frozen_layer/inference_log.log\"\n",
    "# baseline model inference\n",
    "%run ../src/utils/model_inference.py \\\n",
    "            --input_list_file \"{main_dir}/independent_test.csv\" \\\n",
    "            --weight_file \"{main_dir}/baseline/pytorch_last_epoch_model.onnx\" \\\n",
    "            --gpu_id 0 \\\n",
    "            --log_path \"{main_dir}/baseline/inference_log.log\""
   ]
  },
  {
   "cell_type": "markdown",
   "id": "45a565b5",
   "metadata": {},
   "source": [
    "<a id='bias_visualization'></a>\n",
    "## 6. Bias Visualization\n",
    "\n",
    "After inference, you can analyze the model bias by running the following code. The analysis code here will calculate the subgroup **predicted prevalence** and **AUROC** , and plot them with respect to different number of frozen layers during second step transfer learning."
   ]
  },
  {
   "cell_type": "code",
   "execution_count": 9,
   "id": "af51fc53",
   "metadata": {},
   "outputs": [
    {
     "name": "stdout",
     "output_type": "stream",
     "text": [
      "\n",
      "Start subgroup bias measurements\n"
     ]
    },
    {
     "data": {
      "image/png": "[encoded data removed]",
      "text/plain": [
       "<Figure size 1000x400 with 2 Axes>"
      ]
     },
     "metadata": {},
     "output_type": "display_data"
    },
    {
     "name": "stdout",
     "output_type": "stream",
     "text": [
      "\n",
      "Done\n",
      "\n"
     ]
    }
   ],
   "source": [
    "# bias measurements and visualization\n",
    "%run ../src/utils/bias_analysis.py \\\n",
    "    --main_dir \"{main_dir}\" \\\n",
    "    --exp_list \"baseline\" \"M_1_frozen_layer\" \"M_9_frozen_layer\" \"F_1_frozen_layer\" \"F_9_frozen_layer\" \\\n",
    "    --amplification_type \"inductive transfer learning\" \\\n",
    "    --testing_result_file \"results__.tsv\" \\\n",
    "    --testing_info_file \"{main_dir}/independent_test.csv\" \\\n",
    "    --test_subgroup \"sex\" "
   ]
  }
 ],
 "metadata": {
  "kernelspec": {
   "display_name": "Python 3 (ipykernel)",
   "language": "python",
   "name": "python3"
  },
  "language_info": {
   "codemirror_mode": {
    "name": "ipython",
    "version": 3
   },
   "file_extension": ".py",
   "mimetype": "text/x-python",
   "name": "python",
   "nbconvert_exporter": "python",
   "pygments_lexer": "ipython3",
   "version": "3.9.13"
  }
 },
 "nbformat": 4,
 "nbformat_minor": 5
}
