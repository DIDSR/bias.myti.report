{
 "cells": [
  {
   "cell_type": "markdown",
   "id": "88322f5d",
   "metadata": {},
   "source": [
    "The example uses MIDRC open-A1 chest X-ray dataset, which can be accessed and downloaded by following the instruction([link](https://data.midrc.org/dashboard/Public/documentation/Gen3_MIDRC_GetStarted.pdf)) from the MIDRC official website. After data is successfully downloaded, the script below will convert dicom files to png files."
   ]
  },
  {
   "cell_type": "code",
   "execution_count": null,
   "id": "caac7706",
   "metadata": {},
   "outputs": [],
   "source": [
    "# convert dicom to png file\n",
    "save_dir = \"/gpfs_projects/yuhang.zhang/OUT/2022_CXR/open_a1_jpeg\"\n",
    "%run ../src/utils/data_conversion.py \\\n",
    "    --save_dir save_dir \\\n",
    "    --input_file \"../../example/20221010_summary_table__open_A1.json\""
   ]
  },
  {
   "cell_type": "markdown",
   "id": "047ff7c8",
   "metadata": {},
   "source": [
    "Partition the downloaded data according to training, validation and testing sets. Only CR image data are used for the example, which are equally stratified by sex (male and female), race (white and black), COVID status (positive and negative). For each patient, only 1 image is selected for training, validation and test sets."
   ]
  },
  {
   "cell_type": "code",
   "execution_count": null,
   "id": "a8f50ec5",
   "metadata": {},
   "outputs": [],
   "source": [
    "# data partition\n",
    "%run ../src/utils/data_partitions.py \\\n",
    "    --test_size 0.2 \\\n",
    "    --validation_size 0.1 \\\n",
    "    --save_dir \"../../example\" \\\n",
    "    --partition_name \"test\" \\\n",
    "    --max_img_per_patient 1 \\\n",
    "    --patient_img_selection_mode \"random\"\n"
   ]
  }
 ],
 "metadata": {
  "kernelspec": {
   "display_name": "Python 3 (ipykernel)",
   "language": "python",
   "name": "python3"
  },
  "language_info": {
   "codemirror_mode": {
    "name": "ipython",
    "version": 3
   },
   "file_extension": ".py",
   "mimetype": "text/x-python",
   "name": "python",
   "nbconvert_exporter": "python",
   "pygments_lexer": "ipython3",
   "version": "3.10.12"
  }
 },
 "nbformat": 4,
 "nbformat_minor": 5
}
