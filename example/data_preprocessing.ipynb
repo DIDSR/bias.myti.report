{
 "cells": [
  {
   "cell_type": "markdown",
   "id": "e04c3933",
   "metadata": {},
   "source": [
    "The example uses MIDRC open-A1 dataset, which can be accessed and downloaded by the instruction below. After data are successfully downloaded, the script below will convert dicom files to .png files."
   ]
  },
  {
   "cell_type": "code",
   "execution_count": null,
   "id": "caac7706",
   "metadata": {},
   "outputs": [],
   "source": [
    "# convert dicom to png file\n",
    "%run ../src/utils/data_conversion.py \\\n",
    "    --save_dir \"../../example\" \\\n",
    "    --stop_at \"0\" \\"
   ]
  },
  {
   "cell_type": "markdown",
   "id": "047ff7c8",
   "metadata": {},
   "source": [
    "Partition the downloaded data according to training, validation and testing sets. Only CR image data are used for the example, which are equally stratified by sex (male and female), race (white and black), COVID status (positive and negative). For each patient, only 1 image is selected for training, validation and test sets."
   ]
  },
  {
   "cell_type": "code",
   "execution_count": null,
   "id": "a8f50ec5",
   "metadata": {},
   "outputs": [],
   "source": [
    "# data partition\n",
    "%run ../src/utils/data_partitions.py \\\n",
    "    --test_size 0.2 \\\n",
    "    --validation_size 0.1 \\\n",
    "    --save_dir \"../../example\" \\\n",
    "    --partition_name \"test\" \\\n",
    "    --max_img_per_patient 1 \\\n",
    "    --patient_img_selection_mode \"last\"\n"
   ]
  },
  {
   "cell_type": "code",
   "execution_count": null,
   "id": "a9086a3b",
   "metadata": {},
   "outputs": [],
   "source": []
  }
 ],
 "metadata": {
  "kernelspec": {
   "display_name": "Python 3 (ipykernel)",
   "language": "python",
   "name": "python3"
  },
  "language_info": {
   "codemirror_mode": {
    "name": "ipython",
    "version": 3
   },
   "file_extension": ".py",
   "mimetype": "text/x-python",
   "name": "python",
   "nbconvert_exporter": "python",
   "pygments_lexer": "ipython3",
   "version": "3.10.12"
  }
 },
 "nbformat": 4,
 "nbformat_minor": 5
}
